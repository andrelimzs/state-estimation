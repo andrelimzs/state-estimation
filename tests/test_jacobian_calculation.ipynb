{
 "cells": [
  {
   "cell_type": "code",
   "execution_count": 17,
   "id": "0bfba72c-e522-442a-b199-0a6cfb2a1f75",
   "metadata": {},
   "outputs": [],
   "source": [
    "from autograd import make_jvp, jacobian\n",
    "import autograd.numpy as np"
   ]
  },
  {
   "cell_type": "markdown",
   "id": "05d2829b-7e11-4946-a8e0-f502ead5c0cf",
   "metadata": {},
   "source": [
    "**Objective**: Test jacobian calculation in python\n",
    "\n",
    "First define the function\n",
    "\n",
    "Autograd does not support assignment to index, so construct $\\frac{dy}{dt}$ using stack instead of indexing"
   ]
  },
  {
   "cell_type": "code",
   "execution_count": 86,
   "id": "8e328d2b-ed10-41aa-9647-7a11ec7ba94c",
   "metadata": {},
   "outputs": [],
   "source": [
    "def f(x1,x2,x3,x4,x5,x6):\n",
    "    # State is { x,y,theta, vx,vy,omega }\n",
    "    dydt = []\n",
    "    dydt.append( x4**2 + 2*x6 )\n",
    "    dydt.append( 5*x5 )\n",
    "    dydt.append( x4 + 2*x5 + 3*x6 )\n",
    "    dydt.append( x1**2 + 2*x2 )\n",
    "    dydt.append( x2**3 + 4*x3 )\n",
    "    dydt.append( 0 )\n",
    "    \n",
    "    return np.stack(dydt)"
   ]
  },
  {
   "cell_type": "markdown",
   "id": "c1af4fa3-b738-4868-9b82-f93f0ff6e70c",
   "metadata": {},
   "source": [
    "Test that the calculation is what we expect"
   ]
  },
  {
   "cell_type": "code",
   "execution_count": 102,
   "id": "d60d4f22-b783-4234-9004-1ad9be21899c",
   "metadata": {},
   "outputs": [
    {
     "name": "stdout",
     "output_type": "stream",
     "text": [
      "[[0. 0. 0. 2. 0. 2.]\n",
      " [0. 0. 0. 0. 5. 0.]\n",
      " [0. 0. 0. 1. 2. 3.]\n",
      " [2. 2. 0. 0. 0. 0.]\n",
      " [0. 3. 4. 0. 0. 0.]\n",
      " [0. 0. 0. 0. 0. 0.]]\n"
     ]
    }
   ],
   "source": [
    "x = np.ones(6)\n",
    "res = []\n",
    "for i in range(6):\n",
    "    res.append( jacobian(f, argnum=i)(*x) )\n",
    "res = np.stack(res, axis=1)\n",
    "print(res)"
   ]
  },
  {
   "cell_type": "markdown",
   "id": "0819852a-568d-4137-a05b-044b32d47357",
   "metadata": {},
   "source": [
    "## Compare speed of `Jacobian` vs `make_jvp`\n",
    "\n",
    "make_jvp is expected to be much faster because it is a fast forward-mode Jacobian"
   ]
  },
  {
   "cell_type": "markdown",
   "id": "8f316e59-8bd9-4af2-b5eb-1dc2aa52974a",
   "metadata": {},
   "source": [
    "### `Jacobian`"
   ]
  },
  {
   "cell_type": "code",
   "execution_count": 99,
   "id": "6b0642b2-073a-4b99-a6a0-a93d596682b5",
   "metadata": {},
   "outputs": [
    {
     "name": "stdout",
     "output_type": "stream",
     "text": [
      "3.07 s ± 17.5 ms per loop (mean ± std. dev. of 7 runs, 1 loop each)\n"
     ]
    }
   ],
   "source": [
    "%%timeit\n",
    "x = np.zeros(6)\n",
    "J = [ jacobian(f, argnum=i) for i in range(6) ]\n",
    "for t in range(1000):\n",
    "    res = []\n",
    "    for i in range(6):\n",
    "        res.append( J[i](*x) )\n",
    "    res = np.stack(res).T"
   ]
  },
  {
   "cell_type": "markdown",
   "id": "5e674582-620c-4664-a320-01ebd8c41cd5",
   "metadata": {},
   "source": [
    "### `make_jvp`"
   ]
  },
  {
   "cell_type": "code",
   "execution_count": 100,
   "id": "29ce6010-acad-4d3e-bd10-314260c9bdbd",
   "metadata": {},
   "outputs": [
    {
     "name": "stdout",
     "output_type": "stream",
     "text": [
      "45.3 ms ± 316 µs per loop (mean ± std. dev. of 7 runs, 10 loops each)\n"
     ]
    }
   ],
   "source": [
    "%%timeit\n",
    "x = np.zeros(6)\n",
    "J = [ make_jvp(f, argnum=i) for i in range(6) ]\n",
    "for t in range(1000):\n",
    "    res = []\n",
    "    for i in range(6):\n",
    "        res.append( J[i](*x) )\n",
    "    res = np.stack(res).T"
   ]
  },
  {
   "cell_type": "markdown",
   "id": "d8ccccfe-fc65-4811-8957-e189ac4bd993",
   "metadata": {},
   "source": [
    "### Conclusion\n",
    "`make_ivp` is around 70x faster than `jacobian`"
   ]
  }
 ],
 "metadata": {
  "kernelspec": {
   "display_name": "Python [conda env:control-systems] *",
   "language": "python",
   "name": "conda-env-control-systems-py"
  },
  "language_info": {
   "codemirror_mode": {
    "name": "ipython",
    "version": 3
   },
   "file_extension": ".py",
   "mimetype": "text/x-python",
   "name": "python",
   "nbconvert_exporter": "python",
   "pygments_lexer": "ipython3",
   "version": "3.9.7"
  }
 },
 "nbformat": 4,
 "nbformat_minor": 5
}
